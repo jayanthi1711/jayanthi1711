{
 "cells": [
  {
   "cell_type": "code",
   "execution_count": 2,
   "id": "acc4dd88",
   "metadata": {},
   "outputs": [],
   "source": [
    "data=[13,4,77,-10,-32,-12]"
   ]
  },
  {
   "cell_type": "code",
   "execution_count": 3,
   "id": "11a3d0bf",
   "metadata": {},
   "outputs": [
    {
     "name": "stdout",
     "output_type": "stream",
     "text": [
      "[13, 4, 77, -10, -32, -12]\n"
     ]
    }
   ],
   "source": [
    "print(data)"
   ]
  },
  {
   "cell_type": "code",
   "execution_count": 7,
   "id": "41e8acc3",
   "metadata": {},
   "outputs": [],
   "source": [
    "def bubble_sort(data):\n",
    "    for i in range(len(data)):\n",
    "        for j in range(0,len(data)-i-1):\n",
    "            if data[j]>data[j+i]:\n",
    "                k=data[j]\n",
    "                data[j]=data[j+i]\n",
    "                data[j+1]=k\n",
    "            "
   ]
  },
  {
   "cell_type": "code",
   "execution_count": 8,
   "id": "1d40e7e3",
   "metadata": {},
   "outputs": [],
   "source": [
    "bubble_sort(data)"
   ]
  },
  {
   "cell_type": "code",
   "execution_count": 9,
   "id": "3f4fafcc",
   "metadata": {},
   "outputs": [
    {
     "name": "stdout",
     "output_type": "stream",
     "text": [
      "[-32, -10, 4, -32, 77, -12]\n"
     ]
    }
   ],
   "source": [
    "print(data)"
   ]
  },
  {
   "cell_type": "code",
   "execution_count": null,
   "id": "e97cb11c",
   "metadata": {},
   "outputs": [],
   "source": []
  }
 ],
 "metadata": {
  "kernelspec": {
   "display_name": "Python 3 (ipykernel)",
   "language": "python",
   "name": "python3"
  },
  "language_info": {
   "codemirror_mode": {
    "name": "ipython",
    "version": 3
   },
   "file_extension": ".py",
   "mimetype": "text/x-python",
   "name": "python",
   "nbconvert_exporter": "python",
   "pygments_lexer": "ipython3",
   "version": "3.9.17"
  }
 },
 "nbformat": 4,
 "nbformat_minor": 5
}
